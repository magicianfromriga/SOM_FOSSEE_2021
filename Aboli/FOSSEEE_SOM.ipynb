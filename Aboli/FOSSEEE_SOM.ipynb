{
  "nbformat": 4,
  "nbformat_minor": 0,
  "metadata": {
    "colab": {
      "name": "FOSSEEE_SOM.ipynb",
      "provenance": [],
      "collapsed_sections": []
    },
    "kernelspec": {
      "name": "python3",
      "display_name": "Python 3"
    },
    "language_info": {
      "name": "python"
    }
  },
  "cells": [
    {
      "cell_type": "code",
      "metadata": {
        "colab": {
          "base_uri": "https://localhost:8080/"
        },
        "id": "NTtN2LEGIN5x",
        "outputId": "93dbff81-9989-4f53-f724-789ed3e69e49"
      },
      "source": [
        "!git clone https://github.com/FlorentF9/SOMperf.git"
      ],
      "execution_count": null,
      "outputs": [
        {
          "output_type": "stream",
          "text": [
            "Cloning into 'SOMperf'...\n",
            "remote: Enumerating objects: 101, done.\u001b[K\n",
            "remote: Counting objects: 100% (101/101), done.\u001b[K\n",
            "remote: Compressing objects: 100% (64/64), done.\u001b[K\n",
            "remote: Total 101 (delta 44), reused 86 (delta 31), pack-reused 0\u001b[K\n",
            "Receiving objects: 100% (101/101), 595.65 KiB | 9.02 MiB/s, done.\n",
            "Resolving deltas: 100% (44/44), done.\n"
          ],
          "name": "stdout"
        }
      ]
    },
    {
      "cell_type": "code",
      "metadata": {
        "id": "SISBuAFOIhQN"
      },
      "source": [
        "import os\n",
        "os.chdir('SOMperf')"
      ],
      "execution_count": null,
      "outputs": []
    },
    {
      "cell_type": "code",
      "metadata": {
        "id": "lqzqIQYaIY5f",
        "colab": {
          "base_uri": "https://localhost:8080/"
        },
        "outputId": "a816a491-2b9a-452e-c583-d8b403f816b4"
      },
      "source": [
        "!python3 setup.py install"
      ],
      "execution_count": null,
      "outputs": [
        {
          "output_type": "stream",
          "text": [
            "running install\n",
            "running bdist_egg\n",
            "running egg_info\n",
            "creating SOMperf.egg-info\n",
            "writing SOMperf.egg-info/PKG-INFO\n",
            "writing dependency_links to SOMperf.egg-info/dependency_links.txt\n",
            "writing requirements to SOMperf.egg-info/requires.txt\n",
            "writing top-level names to SOMperf.egg-info/top_level.txt\n",
            "writing manifest file 'SOMperf.egg-info/SOURCES.txt'\n",
            "adding license file 'LICENSE'\n",
            "writing manifest file 'SOMperf.egg-info/SOURCES.txt'\n",
            "installing library code to build/bdist.linux-x86_64/egg\n",
            "running install_lib\n",
            "running build_py\n",
            "creating build\n",
            "creating build/lib\n",
            "creating build/lib/somperf\n",
            "copying somperf/__init__.py -> build/lib/somperf\n",
            "copying somperf/__version__.py -> build/lib/somperf\n",
            "creating build/lib/somperf/utils\n",
            "copying somperf/utils/neighborhood.py -> build/lib/somperf/utils\n",
            "copying somperf/utils/__init__.py -> build/lib/somperf/utils\n",
            "copying somperf/utils/topology.py -> build/lib/somperf/utils\n",
            "creating build/lib/somperf/metrics\n",
            "copying somperf/metrics/__init__.py -> build/lib/somperf/metrics\n",
            "copying somperf/metrics/internal.py -> build/lib/somperf/metrics\n",
            "copying somperf/metrics/external.py -> build/lib/somperf/metrics\n",
            "creating build/bdist.linux-x86_64\n",
            "creating build/bdist.linux-x86_64/egg\n",
            "creating build/bdist.linux-x86_64/egg/somperf\n",
            "creating build/bdist.linux-x86_64/egg/somperf/utils\n",
            "copying build/lib/somperf/utils/neighborhood.py -> build/bdist.linux-x86_64/egg/somperf/utils\n",
            "copying build/lib/somperf/utils/__init__.py -> build/bdist.linux-x86_64/egg/somperf/utils\n",
            "copying build/lib/somperf/utils/topology.py -> build/bdist.linux-x86_64/egg/somperf/utils\n",
            "copying build/lib/somperf/__init__.py -> build/bdist.linux-x86_64/egg/somperf\n",
            "creating build/bdist.linux-x86_64/egg/somperf/metrics\n",
            "copying build/lib/somperf/metrics/__init__.py -> build/bdist.linux-x86_64/egg/somperf/metrics\n",
            "copying build/lib/somperf/metrics/internal.py -> build/bdist.linux-x86_64/egg/somperf/metrics\n",
            "copying build/lib/somperf/metrics/external.py -> build/bdist.linux-x86_64/egg/somperf/metrics\n",
            "copying build/lib/somperf/__version__.py -> build/bdist.linux-x86_64/egg/somperf\n",
            "byte-compiling build/bdist.linux-x86_64/egg/somperf/utils/neighborhood.py to neighborhood.cpython-37.pyc\n",
            "byte-compiling build/bdist.linux-x86_64/egg/somperf/utils/__init__.py to __init__.cpython-37.pyc\n",
            "byte-compiling build/bdist.linux-x86_64/egg/somperf/utils/topology.py to topology.cpython-37.pyc\n",
            "byte-compiling build/bdist.linux-x86_64/egg/somperf/__init__.py to __init__.cpython-37.pyc\n",
            "byte-compiling build/bdist.linux-x86_64/egg/somperf/metrics/__init__.py to __init__.cpython-37.pyc\n",
            "byte-compiling build/bdist.linux-x86_64/egg/somperf/metrics/internal.py to internal.cpython-37.pyc\n",
            "byte-compiling build/bdist.linux-x86_64/egg/somperf/metrics/external.py to external.cpython-37.pyc\n",
            "byte-compiling build/bdist.linux-x86_64/egg/somperf/__version__.py to __version__.cpython-37.pyc\n",
            "creating build/bdist.linux-x86_64/egg/EGG-INFO\n",
            "copying SOMperf.egg-info/PKG-INFO -> build/bdist.linux-x86_64/egg/EGG-INFO\n",
            "copying SOMperf.egg-info/SOURCES.txt -> build/bdist.linux-x86_64/egg/EGG-INFO\n",
            "copying SOMperf.egg-info/dependency_links.txt -> build/bdist.linux-x86_64/egg/EGG-INFO\n",
            "copying SOMperf.egg-info/requires.txt -> build/bdist.linux-x86_64/egg/EGG-INFO\n",
            "copying SOMperf.egg-info/top_level.txt -> build/bdist.linux-x86_64/egg/EGG-INFO\n",
            "zip_safe flag not set; analyzing archive contents...\n",
            "creating dist\n",
            "creating 'dist/SOMperf-0.2b0-py3.7.egg' and adding 'build/bdist.linux-x86_64/egg' to it\n",
            "removing 'build/bdist.linux-x86_64/egg' (and everything under it)\n",
            "Processing SOMperf-0.2b0-py3.7.egg\n",
            "Copying SOMperf-0.2b0-py3.7.egg to /usr/local/lib/python3.7/dist-packages\n",
            "Adding SOMperf 0.2b0 to easy-install.pth file\n",
            "\n",
            "Installed /usr/local/lib/python3.7/dist-packages/SOMperf-0.2b0-py3.7.egg\n",
            "Processing dependencies for SOMperf==0.2b0\n",
            "Searching for scikit-learn==0.22.2.post1\n",
            "Best match: scikit-learn 0.22.2.post1\n",
            "Adding scikit-learn 0.22.2.post1 to easy-install.pth file\n",
            "\n",
            "Using /usr/local/lib/python3.7/dist-packages\n",
            "Searching for scipy==1.4.1\n",
            "Best match: scipy 1.4.1\n",
            "Adding scipy 1.4.1 to easy-install.pth file\n",
            "\n",
            "Using /usr/local/lib/python3.7/dist-packages\n",
            "Searching for pandas==1.1.5\n",
            "Best match: pandas 1.1.5\n",
            "Adding pandas 1.1.5 to easy-install.pth file\n",
            "\n",
            "Using /usr/local/lib/python3.7/dist-packages\n",
            "Searching for numpy==1.19.5\n",
            "Best match: numpy 1.19.5\n",
            "Adding numpy 1.19.5 to easy-install.pth file\n",
            "Installing f2py script to /usr/local/bin\n",
            "Installing f2py3 script to /usr/local/bin\n",
            "Installing f2py3.7 script to /usr/local/bin\n",
            "\n",
            "Using /usr/local/lib/python3.7/dist-packages\n",
            "Searching for joblib==1.0.1\n",
            "Best match: joblib 1.0.1\n",
            "Adding joblib 1.0.1 to easy-install.pth file\n",
            "\n",
            "Using /usr/local/lib/python3.7/dist-packages\n",
            "Searching for python-dateutil==2.8.1\n",
            "Best match: python-dateutil 2.8.1\n",
            "Adding python-dateutil 2.8.1 to easy-install.pth file\n",
            "\n",
            "Using /usr/local/lib/python3.7/dist-packages\n",
            "Searching for pytz==2018.9\n",
            "Best match: pytz 2018.9\n",
            "Adding pytz 2018.9 to easy-install.pth file\n",
            "\n",
            "Using /usr/local/lib/python3.7/dist-packages\n",
            "Searching for six==1.15.0\n",
            "Best match: six 1.15.0\n",
            "Adding six 1.15.0 to easy-install.pth file\n",
            "\n",
            "Using /usr/local/lib/python3.7/dist-packages\n",
            "Finished processing dependencies for SOMperf==0.2b0\n"
          ],
          "name": "stdout"
        }
      ]
    },
    {
      "cell_type": "code",
      "metadata": {
        "colab": {
          "base_uri": "https://localhost:8080/"
        },
        "id": "SPi0taHDIrss",
        "outputId": "6c3f8f10-b920-4051-cf9e-2be563da5870"
      },
      "source": [
        "!pip install minisom"
      ],
      "execution_count": null,
      "outputs": [
        {
          "output_type": "stream",
          "text": [
            "Collecting minisom\n",
            "  Downloading https://files.pythonhosted.org/packages/88/c9/7ef2caebca23a1f1803a057c3df1aef219e230acc4fa824c0944432b6b7a/MiniSom-2.2.9.tar.gz\n",
            "Building wheels for collected packages: minisom\n",
            "  Building wheel for minisom (setup.py) ... \u001b[?25l\u001b[?25hdone\n",
            "  Created wheel for minisom: filename=MiniSom-2.2.9-cp37-none-any.whl size=8595 sha256=d3bb002393ebfd148d886086344bb05d8a4d5f5b83e25b9f2bec2ebf57835941\n",
            "  Stored in directory: /root/.cache/pip/wheels/de/a0/08/5234d6b02b29c561f62b6c985e2eb7d480fb0b92359a8c74e4\n",
            "Successfully built minisom\n",
            "Installing collected packages: minisom\n",
            "Successfully installed minisom-2.2.9\n"
          ],
          "name": "stdout"
        }
      ]
    },
    {
      "cell_type": "code",
      "metadata": {
        "colab": {
          "base_uri": "https://localhost:8080/"
        },
        "id": "SyKXcYkvIZu6",
        "outputId": "9cfe3154-8cbd-4826-c9e6-0daf3f0f24cd"
      },
      "source": [
        "import numpy as np\n",
        "from minisom import MiniSom\n",
        "\n",
        "from somperf.metrics import *\n",
        "from somperf.utils.topology import rectangular_topology_dist\n",
        "\n",
        "# 8 colors\n",
        "X = np.array([[1.0, 0.0, 0.0],\n",
        "              [0.0, 1.0, 0.0],\n",
        "              [0.0, 0.0, 1.0],\n",
        "              [1.0, 1.0, 1.0],\n",
        "              [0.5, 0.5, 0.5],\n",
        "              [1.0, 1.0, 0.0],\n",
        "              [0.0, 1.0, 1.0],\n",
        "              [1.0, 0.0, 1.0]])\n",
        "\n",
        "# define and train 10-by-10 map\n",
        "map_size = (10, 10)\n",
        "som = MiniSom(map_size[0], map_size[1], X.shape[-1], sigma=1.0, learning_rate=1.0, random_seed=42)\n",
        "som.random_weights_init(X)\n",
        "som.train_random(X, 10000)\n",
        "\n",
        "# get weights as a (100, 3) array\n",
        "weights = som.get_weights().reshape(map_size[0]*map_size[1], -1)\n",
        "\n",
        "# compute a few metrics\n",
        "print('Topographic product = ', topographic_product(rectangular_topology_dist(map_size), weights))\n",
        "print('Neighborhood preservation = ', neighborhood_preservation(1, weights, X))\n",
        "print('Trustworthiness = ', trustworthiness(1, weights, X))"
      ],
      "execution_count": null,
      "outputs": [
        {
          "output_type": "stream",
          "text": [
            "/usr/local/lib/python3.7/dist-packages/sklearn/utils/deprecation.py:144: FutureWarning: The sklearn.metrics.cluster.supervised module is  deprecated in version 0.22 and will be removed in version 0.24. The corresponding classes / functions should instead be imported from sklearn.metrics.cluster. Anything that cannot be imported from sklearn.metrics.cluster is now part of the private API.\n",
            "  warnings.warn(message, FutureWarning)\n",
            "/usr/local/lib/python3.7/dist-packages/sklearn/utils/linear_assignment_.py:22: FutureWarning: The linear_assignment_ module is deprecated in 0.21 and will be removed from 0.23. Use scipy.optimize.linear_sum_assignment instead.\n",
            "  FutureWarning)\n"
          ],
          "name": "stderr"
        },
        {
          "output_type": "stream",
          "text": [
            "Topographic product =  0.4333384232803905\n",
            "Neighborhood preservation =  0.9375\n",
            "Trustworthiness =  1.0\n"
          ],
          "name": "stdout"
        }
      ]
    },
    {
      "cell_type": "code",
      "metadata": {
        "colab": {
          "base_uri": "https://localhost:8080/"
        },
        "id": "H7MOsuyIIZnZ",
        "outputId": "ba1a0b04-9e74-4dc8-bbcf-937850f00750"
      },
      "source": [
        "import numpy as np\n",
        "\n",
        "map_size = (4,4)\n",
        "\n",
        "w = [[ 1.29762733 , 0.2625703  ,0.08273311],\n",
        " [ 0.87336098  ,0.8314740 ,-0.04326703],\n",
        " [ 0.17989823 , 0.4356558 , 0.46427652],\n",
        "[-0.52103301, -0.1619089,  1.03110278],\n",
        "[ 0.87336107 , 0.8314743 ,-0.04326738],\n",
        "[  0.74987617 , 1.1056883, -0.73339329],\n",
        "[  0.07372646 , 0.3221188, -0.41696859],\n",
        "[ -0.38969272, -0.4155602 , 0.29905970],\n",
        "[  0.18992068 , 0.4422200 , 0.45766536],\n",
        "[  0.07372641, 0.3221188, -0.41696851],\n",
        "[  0.12320130 ,-0.2557705, -1.00428194],\n",
        "[ -0.52723619, -0.5730274 ,-0.66660758],\n",
        "[ -0.52103302 ,-0.1619089,  1.03110286],\n",
        "[ -0.38256470, -0.4479080 , 0.18870270],\n",
        "[ -0.54557199 ,-0.5884401 ,-0.65777586],\n",
        "[ -1.21942047, -0.9271189, -0.58570895]]\n",
        "\n",
        "t = np.array(w)\n",
        "\n",
        "t"
      ],
      "execution_count": null,
      "outputs": [
        {
          "output_type": "execute_result",
          "data": {
            "text/plain": [
              "array([[ 1.29762733,  0.2625703 ,  0.08273311],\n",
              "       [ 0.87336098,  0.831474  , -0.04326703],\n",
              "       [ 0.17989823,  0.4356558 ,  0.46427652],\n",
              "       [-0.52103301, -0.1619089 ,  1.03110278],\n",
              "       [ 0.87336107,  0.8314743 , -0.04326738],\n",
              "       [ 0.74987617,  1.1056883 , -0.73339329],\n",
              "       [ 0.07372646,  0.3221188 , -0.41696859],\n",
              "       [-0.38969272, -0.4155602 ,  0.2990597 ],\n",
              "       [ 0.18992068,  0.44222   ,  0.45766536],\n",
              "       [ 0.07372641,  0.3221188 , -0.41696851],\n",
              "       [ 0.1232013 , -0.2557705 , -1.00428194],\n",
              "       [-0.52723619, -0.5730274 , -0.66660758],\n",
              "       [-0.52103302, -0.1619089 ,  1.03110286],\n",
              "       [-0.3825647 , -0.447908  ,  0.1887027 ],\n",
              "       [-0.54557199, -0.5884401 , -0.65777586],\n",
              "       [-1.21942047, -0.9271189 , -0.58570895]])"
            ]
          },
          "metadata": {
            "tags": []
          },
          "execution_count": 27
        }
      ]
    },
    {
      "cell_type": "code",
      "metadata": {
        "id": "rteKXnOpLtdt"
      },
      "source": [
        "import pandas as pd\n",
        "df = pd.read_csv(\"/../content/binary.csv\")\n",
        "df = df.drop(columns=[\"admit\"])\n",
        "n = df.values"
      ],
      "execution_count": null,
      "outputs": []
    },
    {
      "cell_type": "code",
      "metadata": {
        "colab": {
          "base_uri": "https://localhost:8080/"
        },
        "id": "W5arU4GONBIR",
        "outputId": "60032a0d-f929-4920-b138-f17bd29ba0d4"
      },
      "source": [
        "print('Topographic product = ', topographic_product(rectangular_topology_dist(map_size), t))\n",
        "print('Neighborhood preservation = ', neighborhood_preservation(1, t, n))\n",
        "print('Trustworthiness = ', trustworthiness(1, t, n))"
      ],
      "execution_count": null,
      "outputs": [
        {
          "output_type": "stream",
          "text": [
            "Topographic product =  0.5530599677605338\n",
            "Neighborhood preservation =  1.0\n",
            "Trustworthiness =  0.48515598040326957\n"
          ],
          "name": "stdout"
        }
      ]
    },
    {
      "cell_type": "code",
      "metadata": {
        "colab": {
          "base_uri": "https://localhost:8080/"
        },
        "id": "Gf4Oja_nNvQx",
        "outputId": "c79f4581-0b21-4a14-838c-cf59f29dbc92"
      },
      "source": [
        "prototypes = make_grid(*map_size)\n",
        "dist_fun = rectangular_topology_dist(map_size)\n",
        "kruskal_shepard_error(dist_fun=dist_fun, som=t, x=n)"
      ],
      "execution_count": null,
      "outputs": [
        {
          "output_type": "stream",
          "text": [
            "/content/SOMperf/somperf/metrics/internal.py:179: RuntimeWarning: invalid value encountered in true_divide\n",
            "  d_som /= d_som.max()\n"
          ],
          "name": "stderr"
        },
        {
          "output_type": "execute_result",
          "data": {
            "text/plain": [
              "nan"
            ]
          },
          "metadata": {
            "tags": []
          },
          "execution_count": 44
        }
      ]
    },
    {
      "cell_type": "code",
      "metadata": {
        "id": "WN5D74BbQaHu"
      },
      "source": [
        "def test_equal(somperf_value, expected_value):\n",
        "    print(\"ok\") if np.round(somperf_value, 9) == np.round(expected_value, 9) else print(\"nok\")\n",
        "\n",
        "def test_all_equal(somperf_values, expected_values):\n",
        "    display(ok) if (np.round(somperf_values, 9) == np.round(expected_values, 9)).all() else display(nok)\n",
        "\n",
        "def test_decreasing(somperf_values):\n",
        "    display(ok) if (np.diff(somperf_values) <= 0.0).all() else display(nok)\n",
        "\n",
        "def test_increasing(somperf_values):\n",
        "    display(ok) if (np.diff(somperf_values) >= 0.0).all() else display(nok)"
      ],
      "execution_count": null,
      "outputs": []
    },
    {
      "cell_type": "code",
      "metadata": {
        "colab": {
          "base_uri": "https://localhost:8080/"
        },
        "id": "ZQuDD_1NPKBN",
        "outputId": "fc105e26-f4aa-4bda-e7ea-540a5330dcee"
      },
      "source": [
        "expected_value = 0.333333333\n",
        "somperf_value = neighborhood_preservation(k=1, som=t, x=n)\n",
        "\n",
        "test_equal(somperf_value, expected_value)"
      ],
      "execution_count": null,
      "outputs": [
        {
          "output_type": "stream",
          "text": [
            "nok\n"
          ],
          "name": "stdout"
        }
      ]
    },
    {
      "cell_type": "code",
      "metadata": {
        "id": "laKqGz8VQTYR",
        "colab": {
          "base_uri": "https://localhost:8080/"
        },
        "outputId": "48bf15f0-9f13-48e2-d5ba-e283ef91be00"
      },
      "source": [
        "import numpy as np\n",
        "import pandas as pd\n",
        "map_size = (30,30)\n",
        "\n",
        "df = pd.read_csv(\"/../content/Sid_w.csv\")\n",
        "t = np.array(df)\n",
        "\n",
        "t"
      ],
      "execution_count": null,
      "outputs": [
        {
          "output_type": "execute_result",
          "data": {
            "text/plain": [
              "array([[ 1.48775709e+00, -5.78343291e-01,  8.50278027e-01,\n",
              "        -2.11032163e+00],\n",
              "       [-1.89190100e-03, -8.26672466e-01,  1.13952725e+00,\n",
              "         1.03959965e+00],\n",
              "       [ 1.38102079e+00, -2.44312030e+00, -1.55392368e+00,\n",
              "        -8.88081865e-01],\n",
              "       ...,\n",
              "       [ 1.83177846e+00,  1.61769624e+00,  1.54698510e+00,\n",
              "         2.07241261e+00],\n",
              "       [ 1.84248448e+00,  9.38005831e-01,  1.19548944e+00,\n",
              "         1.90723986e+00],\n",
              "       [ 1.21394421e+00,  1.98485282e+00,  1.18702943e+00,\n",
              "         2.26931470e+00]])"
            ]
          },
          "metadata": {
            "tags": []
          },
          "execution_count": 12
        }
      ]
    },
    {
      "cell_type": "code",
      "metadata": {
        "colab": {
          "base_uri": "https://localhost:8080/",
          "height": 1000
        },
        "id": "3rESlKG9BbEW",
        "outputId": "0448b2c5-b74b-4115-db16-8cda80fc784e"
      },
      "source": [
        "df1 = pd.read_csv(\"/../content/Sid_data.csv\")\n",
        "df1 = df1[[\"Confirmed\",\"Recovered\",\"Deaths\",\"Active\"]]\n",
        "df1"
      ],
      "execution_count": null,
      "outputs": [
        {
          "output_type": "execute_result",
          "data": {
            "text/html": [
              "<div>\n",
              "<style scoped>\n",
              "    .dataframe tbody tr th:only-of-type {\n",
              "        vertical-align: middle;\n",
              "    }\n",
              "\n",
              "    .dataframe tbody tr th {\n",
              "        vertical-align: top;\n",
              "    }\n",
              "\n",
              "    .dataframe thead th {\n",
              "        text-align: right;\n",
              "    }\n",
              "</style>\n",
              "<table border=\"1\" class=\"dataframe\">\n",
              "  <thead>\n",
              "    <tr style=\"text-align: right;\">\n",
              "      <th></th>\n",
              "      <th>Confirmed</th>\n",
              "      <th>Recovered</th>\n",
              "      <th>Deaths</th>\n",
              "      <th>Active</th>\n",
              "    </tr>\n",
              "  </thead>\n",
              "  <tbody>\n",
              "    <tr>\n",
              "      <th>0</th>\n",
              "      <td>29358514</td>\n",
              "      <td>27903214</td>\n",
              "      <td>367106</td>\n",
              "      <td>1076736</td>\n",
              "    </tr>\n",
              "    <tr>\n",
              "      <th>1</th>\n",
              "      <td>7233</td>\n",
              "      <td>6984</td>\n",
              "      <td>125</td>\n",
              "      <td>124</td>\n",
              "    </tr>\n",
              "    <tr>\n",
              "      <th>2</th>\n",
              "      <td>1796122</td>\n",
              "      <td>1688198</td>\n",
              "      <td>11824</td>\n",
              "      <td>96100</td>\n",
              "    </tr>\n",
              "    <tr>\n",
              "      <th>3</th>\n",
              "      <td>30850</td>\n",
              "      <td>27438</td>\n",
              "      <td>138</td>\n",
              "      <td>3274</td>\n",
              "    </tr>\n",
              "    <tr>\n",
              "      <th>4</th>\n",
              "      <td>453867</td>\n",
              "      <td>403170</td>\n",
              "      <td>3873</td>\n",
              "      <td>45477</td>\n",
              "    </tr>\n",
              "    <tr>\n",
              "      <th>5</th>\n",
              "      <td>716296</td>\n",
              "      <td>700481</td>\n",
              "      <td>9466</td>\n",
              "      <td>6348</td>\n",
              "    </tr>\n",
              "    <tr>\n",
              "      <th>6</th>\n",
              "      <td>60998</td>\n",
              "      <td>59648</td>\n",
              "      <td>786</td>\n",
              "      <td>564</td>\n",
              "    </tr>\n",
              "    <tr>\n",
              "      <th>7</th>\n",
              "      <td>985691</td>\n",
              "      <td>956459</td>\n",
              "      <td>13300</td>\n",
              "      <td>15932</td>\n",
              "    </tr>\n",
              "    <tr>\n",
              "      <th>8</th>\n",
              "      <td>10455</td>\n",
              "      <td>10312</td>\n",
              "      <td>4</td>\n",
              "      <td>108</td>\n",
              "    </tr>\n",
              "    <tr>\n",
              "      <th>9</th>\n",
              "      <td>1430671</td>\n",
              "      <td>1401977</td>\n",
              "      <td>24772</td>\n",
              "      <td>3922</td>\n",
              "    </tr>\n",
              "    <tr>\n",
              "      <th>10</th>\n",
              "      <td>161576</td>\n",
              "      <td>153476</td>\n",
              "      <td>2899</td>\n",
              "      <td>5201</td>\n",
              "    </tr>\n",
              "    <tr>\n",
              "      <th>11</th>\n",
              "      <td>819376</td>\n",
              "      <td>797734</td>\n",
              "      <td>9985</td>\n",
              "      <td>11657</td>\n",
              "    </tr>\n",
              "    <tr>\n",
              "      <th>12</th>\n",
              "      <td>765096</td>\n",
              "      <td>750443</td>\n",
              "      <td>8904</td>\n",
              "      <td>5749</td>\n",
              "    </tr>\n",
              "    <tr>\n",
              "      <th>13</th>\n",
              "      <td>197943</td>\n",
              "      <td>188691</td>\n",
              "      <td>3351</td>\n",
              "      <td>5879</td>\n",
              "    </tr>\n",
              "    <tr>\n",
              "      <th>14</th>\n",
              "      <td>305772</td>\n",
              "      <td>284027</td>\n",
              "      <td>4160</td>\n",
              "      <td>17585</td>\n",
              "    </tr>\n",
              "    <tr>\n",
              "      <th>15</th>\n",
              "      <td>343065</td>\n",
              "      <td>333763</td>\n",
              "      <td>5082</td>\n",
              "      <td>4220</td>\n",
              "    </tr>\n",
              "    <tr>\n",
              "      <th>16</th>\n",
              "      <td>2747539</td>\n",
              "      <td>2511105</td>\n",
              "      <td>32644</td>\n",
              "      <td>203769</td>\n",
              "    </tr>\n",
              "    <tr>\n",
              "      <th>17</th>\n",
              "      <td>2702823</td>\n",
              "      <td>2557597</td>\n",
              "      <td>10804</td>\n",
              "      <td>134001</td>\n",
              "    </tr>\n",
              "    <tr>\n",
              "      <th>18</th>\n",
              "      <td>19475</td>\n",
              "      <td>18425</td>\n",
              "      <td>197</td>\n",
              "      <td>853</td>\n",
              "    </tr>\n",
              "    <tr>\n",
              "      <th>19</th>\n",
              "      <td>9122</td>\n",
              "      <td>8382</td>\n",
              "      <td>43</td>\n",
              "      <td>665</td>\n",
              "    </tr>\n",
              "    <tr>\n",
              "      <th>20</th>\n",
              "      <td>787572</td>\n",
              "      <td>773615</td>\n",
              "      <td>8510</td>\n",
              "      <td>5447</td>\n",
              "    </tr>\n",
              "    <tr>\n",
              "      <th>21</th>\n",
              "      <td>5887853</td>\n",
              "      <td>5616857</td>\n",
              "      <td>106367</td>\n",
              "      <td>161704</td>\n",
              "    </tr>\n",
              "    <tr>\n",
              "      <th>22</th>\n",
              "      <td>58768</td>\n",
              "      <td>48902</td>\n",
              "      <td>944</td>\n",
              "      <td>8922</td>\n",
              "    </tr>\n",
              "    <tr>\n",
              "      <th>23</th>\n",
              "      <td>41100</td>\n",
              "      <td>35393</td>\n",
              "      <td>714</td>\n",
              "      <td>4993</td>\n",
              "    </tr>\n",
              "    <tr>\n",
              "      <th>24</th>\n",
              "      <td>14743</td>\n",
              "      <td>11358</td>\n",
              "      <td>61</td>\n",
              "      <td>3324</td>\n",
              "    </tr>\n",
              "    <tr>\n",
              "      <th>25</th>\n",
              "      <td>23466</td>\n",
              "      <td>18587</td>\n",
              "      <td>445</td>\n",
              "      <td>3777</td>\n",
              "    </tr>\n",
              "    <tr>\n",
              "      <th>26</th>\n",
              "      <td>842461</td>\n",
              "      <td>781488</td>\n",
              "      <td>3263</td>\n",
              "      <td>57710</td>\n",
              "    </tr>\n",
              "    <tr>\n",
              "      <th>27</th>\n",
              "      <td>111684</td>\n",
              "      <td>103860</td>\n",
              "      <td>1668</td>\n",
              "      <td>6156</td>\n",
              "    </tr>\n",
              "    <tr>\n",
              "      <th>28</th>\n",
              "      <td>585986</td>\n",
              "      <td>555245</td>\n",
              "      <td>15435</td>\n",
              "      <td>15306</td>\n",
              "    </tr>\n",
              "    <tr>\n",
              "      <th>29</th>\n",
              "      <td>949008</td>\n",
              "      <td>931186</td>\n",
              "      <td>8799</td>\n",
              "      <td>9023</td>\n",
              "    </tr>\n",
              "    <tr>\n",
              "      <th>30</th>\n",
              "      <td>18090</td>\n",
              "      <td>13655</td>\n",
              "      <td>281</td>\n",
              "      <td>3908</td>\n",
              "    </tr>\n",
              "    <tr>\n",
              "      <th>31</th>\n",
              "      <td>0</td>\n",
              "      <td>0</td>\n",
              "      <td>0</td>\n",
              "      <td>0</td>\n",
              "    </tr>\n",
              "    <tr>\n",
              "      <th>32</th>\n",
              "      <td>2324597</td>\n",
              "      <td>2120889</td>\n",
              "      <td>28906</td>\n",
              "      <td>174802</td>\n",
              "    </tr>\n",
              "    <tr>\n",
              "      <th>33</th>\n",
              "      <td>600318</td>\n",
              "      <td>574103</td>\n",
              "      <td>3456</td>\n",
              "      <td>22759</td>\n",
              "    </tr>\n",
              "    <tr>\n",
              "      <th>34</th>\n",
              "      <td>58090</td>\n",
              "      <td>51593</td>\n",
              "      <td>593</td>\n",
              "      <td>5881</td>\n",
              "    </tr>\n",
              "    <tr>\n",
              "      <th>35</th>\n",
              "      <td>1701668</td>\n",
              "      <td>1668874</td>\n",
              "      <td>21667</td>\n",
              "      <td>11127</td>\n",
              "    </tr>\n",
              "    <tr>\n",
              "      <th>36</th>\n",
              "      <td>336153</td>\n",
              "      <td>318235</td>\n",
              "      <td>6909</td>\n",
              "      <td>5277</td>\n",
              "    </tr>\n",
              "    <tr>\n",
              "      <th>37</th>\n",
              "      <td>1452987</td>\n",
              "      <td>1421064</td>\n",
              "      <td>16731</td>\n",
              "      <td>15192</td>\n",
              "    </tr>\n",
              "  </tbody>\n",
              "</table>\n",
              "</div>"
            ],
            "text/plain": [
              "    Confirmed  Recovered  Deaths   Active\n",
              "0    29358514   27903214  367106  1076736\n",
              "1        7233       6984     125      124\n",
              "2     1796122    1688198   11824    96100\n",
              "3       30850      27438     138     3274\n",
              "4      453867     403170    3873    45477\n",
              "5      716296     700481    9466     6348\n",
              "6       60998      59648     786      564\n",
              "7      985691     956459   13300    15932\n",
              "8       10455      10312       4      108\n",
              "9     1430671    1401977   24772     3922\n",
              "10     161576     153476    2899     5201\n",
              "11     819376     797734    9985    11657\n",
              "12     765096     750443    8904     5749\n",
              "13     197943     188691    3351     5879\n",
              "14     305772     284027    4160    17585\n",
              "15     343065     333763    5082     4220\n",
              "16    2747539    2511105   32644   203769\n",
              "17    2702823    2557597   10804   134001\n",
              "18      19475      18425     197      853\n",
              "19       9122       8382      43      665\n",
              "20     787572     773615    8510     5447\n",
              "21    5887853    5616857  106367   161704\n",
              "22      58768      48902     944     8922\n",
              "23      41100      35393     714     4993\n",
              "24      14743      11358      61     3324\n",
              "25      23466      18587     445     3777\n",
              "26     842461     781488    3263    57710\n",
              "27     111684     103860    1668     6156\n",
              "28     585986     555245   15435    15306\n",
              "29     949008     931186    8799     9023\n",
              "30      18090      13655     281     3908\n",
              "31          0          0       0        0\n",
              "32    2324597    2120889   28906   174802\n",
              "33     600318     574103    3456    22759\n",
              "34      58090      51593     593     5881\n",
              "35    1701668    1668874   21667    11127\n",
              "36     336153     318235    6909     5277\n",
              "37    1452987    1421064   16731    15192"
            ]
          },
          "metadata": {
            "tags": []
          },
          "execution_count": 13
        }
      ]
    },
    {
      "cell_type": "code",
      "metadata": {
        "id": "gQSQXCzO2gU_",
        "colab": {
          "base_uri": "https://localhost:8080/"
        },
        "outputId": "8fc1d8cb-8fee-4e86-ecc9-21e481cadf2a"
      },
      "source": [
        "n = df1.values\n",
        "n"
      ],
      "execution_count": null,
      "outputs": [
        {
          "output_type": "execute_result",
          "data": {
            "text/plain": [
              "array([[29358514, 27903214,   367106,  1076736],\n",
              "       [    7233,     6984,      125,      124],\n",
              "       [ 1796122,  1688198,    11824,    96100],\n",
              "       [   30850,    27438,      138,     3274],\n",
              "       [  453867,   403170,     3873,    45477],\n",
              "       [  716296,   700481,     9466,     6348],\n",
              "       [   60998,    59648,      786,      564],\n",
              "       [  985691,   956459,    13300,    15932],\n",
              "       [   10455,    10312,        4,      108],\n",
              "       [ 1430671,  1401977,    24772,     3922],\n",
              "       [  161576,   153476,     2899,     5201],\n",
              "       [  819376,   797734,     9985,    11657],\n",
              "       [  765096,   750443,     8904,     5749],\n",
              "       [  197943,   188691,     3351,     5879],\n",
              "       [  305772,   284027,     4160,    17585],\n",
              "       [  343065,   333763,     5082,     4220],\n",
              "       [ 2747539,  2511105,    32644,   203769],\n",
              "       [ 2702823,  2557597,    10804,   134001],\n",
              "       [   19475,    18425,      197,      853],\n",
              "       [    9122,     8382,       43,      665],\n",
              "       [  787572,   773615,     8510,     5447],\n",
              "       [ 5887853,  5616857,   106367,   161704],\n",
              "       [   58768,    48902,      944,     8922],\n",
              "       [   41100,    35393,      714,     4993],\n",
              "       [   14743,    11358,       61,     3324],\n",
              "       [   23466,    18587,      445,     3777],\n",
              "       [  842461,   781488,     3263,    57710],\n",
              "       [  111684,   103860,     1668,     6156],\n",
              "       [  585986,   555245,    15435,    15306],\n",
              "       [  949008,   931186,     8799,     9023],\n",
              "       [   18090,    13655,      281,     3908],\n",
              "       [       0,        0,        0,        0],\n",
              "       [ 2324597,  2120889,    28906,   174802],\n",
              "       [  600318,   574103,     3456,    22759],\n",
              "       [   58090,    51593,      593,     5881],\n",
              "       [ 1701668,  1668874,    21667,    11127],\n",
              "       [  336153,   318235,     6909,     5277],\n",
              "       [ 1452987,  1421064,    16731,    15192]])"
            ]
          },
          "metadata": {
            "tags": []
          },
          "execution_count": 14
        }
      ]
    },
    {
      "cell_type": "code",
      "metadata": {
        "colab": {
          "base_uri": "https://localhost:8080/"
        },
        "id": "VF0szVod2v22",
        "outputId": "f56b527a-6738-4eb7-af28-f113b44731b9"
      },
      "source": [
        "print('Topographic product = ', topographic_product(rectangular_topology_dist(map_size), t))\n",
        "print('Neighborhood preservation = ', neighborhood_preservation(1, t, n))\n",
        "print('Trustworthiness = ', trustworthiness(1, t, n))"
      ],
      "execution_count": null,
      "outputs": [
        {
          "output_type": "stream",
          "text": [
            "Topographic product =  -0.06179395889903062\n",
            "Neighborhood preservation =  1.0\n",
            "Trustworthiness =  0.5026600064977259\n"
          ],
          "name": "stdout"
        }
      ]
    },
    {
      "cell_type": "code",
      "metadata": {
        "id": "PH_Fxwms25Ie"
      },
      "source": [
        ""
      ],
      "execution_count": null,
      "outputs": []
    }
  ]
}